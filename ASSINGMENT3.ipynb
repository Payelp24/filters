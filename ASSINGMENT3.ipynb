{
  "nbformat": 4,
  "nbformat_minor": 0,
  "metadata": {
    "colab": {
      "provenance": []
    },
    "kernelspec": {
      "name": "python3",
      "display_name": "Python 3"
    },
    "language_info": {
      "name": "python"
    }
  },
  "cells": [
    {
      "cell_type": "markdown",
      "source": [
        "1. #What is the difference between a function and a method in Python?\n",
        "\n",
        "   A- In Python, methods and functions have similar purposes but differ in important ways. Functions are independent blocks of code that can be called from anywhere, while methods are tied to objects or classes and need an object or class instance to be invoked.\n",
        "\n",
        "   Functions promote code reusability, while methods offer behavior specific to objects. Functions are called by name, while methods are accessed using dot notation."
      ],
      "metadata": {
        "id": "pFCbQYscpuvN"
      }
    },
    {
      "cell_type": "code",
      "source": [],
      "metadata": {
        "id": "4Cqx1AqOym4D"
      },
      "execution_count": null,
      "outputs": []
    },
    {
      "cell_type": "markdown",
      "source": [
        "2. #Explain the concept of function arguments and parameters in Python.\n",
        "\n",
        "   A- Parameters are variables defined in a function declaration. This act as placeholders for the values (arguments) that will be passed to the function.\n",
        "\n",
        "   Arguments are the actual values that you pass to the function when you call it. These values replace the parameters defined in the function.\n",
        "\n",
        "   Although these terms are often used interchangeably, they have distinct roles within a function. This article focuses to clarify them and help us to use Parameters and Arguments effectively.\n",
        "   \n",
        "    \n"
      ],
      "metadata": {
        "id": "VCmq9LRNqu_F"
      }
    },
    {
      "cell_type": "code",
      "source": [
        "# Here a,b are the parameters\n",
        "def sum(a,b):\n",
        "  print(a+b)\n",
        "\n",
        "sum(1,2)"
      ],
      "metadata": {
        "colab": {
          "base_uri": "https://localhost:8080/"
        },
        "id": "sjQbp599qt8a",
        "outputId": "81cccd04-a684-42b2-8761-9284d0ecd8aa"
      },
      "execution_count": null,
      "outputs": [
        {
          "output_type": "stream",
          "name": "stdout",
          "text": [
            "3\n"
          ]
        }
      ]
    },
    {
      "cell_type": "code",
      "source": [
        "def sum(a,b):\n",
        "  print(a+b)\n",
        "\n",
        "# Here the values 1,2 are arguments\n",
        "sum(1,2)"
      ],
      "metadata": {
        "colab": {
          "base_uri": "https://localhost:8080/"
        },
        "id": "kYbJ6MUNrbG5",
        "outputId": "678865fe-f788-4f44-c232-936b1f27d7a7"
      },
      "execution_count": null,
      "outputs": [
        {
          "output_type": "stream",
          "name": "stdout",
          "text": [
            "3\n"
          ]
        }
      ]
    },
    {
      "cell_type": "markdown",
      "source": [
        "3. #What are the different ways to define and call a function in Python?\n",
        "\n",
        "   A- In Python, you define a function with the def keyword, then write the function identifier (name) followed by parentheses and a colon.\n",
        "\n",
        "  The next thing you have to do is make sure you indent with a tab or 4 spaces, and then specify what you want the function to do for you.\n",
        "\n"
      ],
      "metadata": {
        "id": "jFd_v_D_r9Cl"
      }
    },
    {
      "cell_type": "code",
      "source": [],
      "metadata": {
        "id": "8xn6K60myqJD"
      },
      "execution_count": null,
      "outputs": []
    },
    {
      "cell_type": "markdown",
      "source": [
        "4. #What is the purpose of the `return` statement in a Python function?\n",
        "\n",
        "   A- A return statement is used to end the execution of the function call and it “returns” the value of the expression following the return keyword to the caller. The statements after the return statements are not executed. If the return statement is without any expression, then the special value None is returned. A return statement is overall used to invoke a function so that the passed statements can be executed."
      ],
      "metadata": {
        "id": "vdZWsBz4uJG8"
      }
    },
    {
      "cell_type": "code",
      "source": [
        "def add(a, b):\n",
        "    return a + b\n",
        "\n",
        "def is_true(a):\n",
        "    return bool(a)\n",
        "res = add(5, 5)\n",
        "print(res)\n",
        "\n",
        "res = is_true(5<10)\n",
        "print(res)"
      ],
      "metadata": {
        "colab": {
          "base_uri": "https://localhost:8080/"
        },
        "id": "IRS6F5eStibP",
        "outputId": "d4db4067-a40e-4239-aad7-e1006a4d26f9"
      },
      "execution_count": null,
      "outputs": [
        {
          "output_type": "stream",
          "name": "stdout",
          "text": [
            "10\n",
            "True\n"
          ]
        }
      ]
    },
    {
      "cell_type": "markdown",
      "source": [
        "5. #What are iterators in Python and how do they differ from iterables?\n",
        "\n",
        "   A-Iterators are defined as an object that counts iteration via an internal state variable. The variable, in this case, is NOT set to zero when the iteration crosses the last item, instead, StopIteration() is raised to indicate the end of the iteration.\n",
        "\n",
        "   Every iterator is iterabl but Not every iterable is an iterator.\n",
        "\n",
        "   "
      ],
      "metadata": {
        "id": "-GsZKcv4vJUU"
      }
    },
    {
      "cell_type": "code",
      "source": [],
      "metadata": {
        "id": "IIR31mKfylSz"
      },
      "execution_count": null,
      "outputs": []
    },
    {
      "cell_type": "markdown",
      "source": [
        "6. #Explain the concept of generators in Python and how they are defined.\n",
        "\n",
        "   A- A generator function is a special type of function that returns an iterator object. Instead of using return to send back a single value, generator functions use yield to produce a series of results over time. This allows the function to generate values and pause its execution after each yield, maintaining its state between iterations."
      ],
      "metadata": {
        "id": "HZ5VzxUYx8i9"
      }
    },
    {
      "cell_type": "code",
      "source": [
        "def fun(max):\n",
        "    cnt = 1\n",
        "    while cnt <= max:\n",
        "        yield cnt\n",
        "        cnt += 1\n",
        "\n",
        "ctr = fun(10)\n",
        "for n in ctr:\n",
        "    print(n)"
      ],
      "metadata": {
        "colab": {
          "base_uri": "https://localhost:8080/"
        },
        "id": "8XTuoQUmyfeC",
        "outputId": "b31fb94d-e99c-4722-e420-16df57cbec26"
      },
      "execution_count": null,
      "outputs": [
        {
          "output_type": "stream",
          "name": "stdout",
          "text": [
            "1\n",
            "2\n",
            "3\n",
            "4\n",
            "5\n",
            "6\n",
            "7\n",
            "8\n",
            "9\n",
            "10\n"
          ]
        }
      ]
    },
    {
      "cell_type": "markdown",
      "source": [
        "7. #What are the advantages of using generators over regular functions?\n",
        "\n",
        "   A- There are several advantages to using generators over regular loops. Here are a few of the most important ones:\n",
        "\n",
        "   1.Memory Efficiency: One of the biggest advantages of generators is that they are memory efficient. Since a generator yields its values one by one, it does not need to store all of the values in memory at once. This can be especially useful when working with large data sets, as it reduces the risk of running out of memory.\n",
        "\n",
        "   2.Readability: Generators can make your code easier to read and understand. By breaking up the iteration process into smaller chunks, you can write code that is more concise and easier to follow.\n",
        "\n",
        "   3.Speed: Generators can also be faster than regular loops, especially when working with large data sets. This is because they avoid the overhead of creating a list or other data structure to store the results.\n",
        "\n",
        "   "
      ],
      "metadata": {
        "id": "E1b7Efzpyr7j"
      }
    },
    {
      "cell_type": "code",
      "source": [
        "def count_to(m):\n",
        "    n = 0\n",
        "    while n <= m:\n",
        "        yield n\n",
        "        n += 1"
      ],
      "metadata": {
        "id": "T3qy451WuwbS"
      },
      "execution_count": null,
      "outputs": []
    },
    {
      "cell_type": "markdown",
      "source": [
        "8. #What is a lambda function in Python and when is it typically used?\n",
        "\n",
        "   A- Lambda functions are similar to user-defined functions but without a name. They're commonly referred to as anonymous functions.\n",
        "\n",
        "   Lambda functions are efficient whenever you want to create a function that will only contain simple expressions – that is, expressions that are usually a single line of a statement. They're also useful when you want to use the function once.\n",
        "\n",
        "   "
      ],
      "metadata": {
        "id": "Vx9oFjYn0Una"
      }
    },
    {
      "cell_type": "code",
      "source": [
        "def f(x):\n",
        "  return x * 2\n",
        "\n",
        "f(3)"
      ],
      "metadata": {
        "colab": {
          "base_uri": "https://localhost:8080/"
        },
        "id": "btLLw6t10KqE",
        "outputId": "5ac467f2-d832-40f5-9b7f-cf9791d9c2ff"
      },
      "execution_count": null,
      "outputs": [
        {
          "output_type": "execute_result",
          "data": {
            "text/plain": [
              "6"
            ]
          },
          "metadata": {},
          "execution_count": 19
        }
      ]
    },
    {
      "cell_type": "code",
      "source": [
        "(lambda x : x * 2)(3)"
      ],
      "metadata": {
        "colab": {
          "base_uri": "https://localhost:8080/"
        },
        "id": "2qrgHhYy0-Du",
        "outputId": "01beb9ae-320e-4355-dd2f-99cb26799a70"
      },
      "execution_count": null,
      "outputs": [
        {
          "output_type": "execute_result",
          "data": {
            "text/plain": [
              "6"
            ]
          },
          "metadata": {},
          "execution_count": 21
        }
      ]
    },
    {
      "cell_type": "markdown",
      "source": [
        "9. #Explain the purpose and usage of the `map()` function in Python.\n",
        "\n",
        "   A. The map () function returns a map object(which is an iterator) of the results after applying the given function to each item of a given iterable (list, tuple, etc.).\n",
        "\n",
        "   "
      ],
      "metadata": {
        "id": "Jra5NG4X1EUS"
      }
    },
    {
      "cell_type": "code",
      "source": [
        "numbers = [5, 6, 7, 8]\n",
        "result = map(double, numbers)\n",
        "print(list(result))"
      ],
      "metadata": {
        "colab": {
          "base_uri": "https://localhost:8080/"
        },
        "id": "v0xhx7Kw1Woj",
        "outputId": "0d069519-f3b0-4f0c-8cb9-ef7893e3337d"
      },
      "execution_count": null,
      "outputs": [
        {
          "output_type": "stream",
          "name": "stdout",
          "text": [
            "[10, 12, 14, 16]\n"
          ]
        }
      ]
    },
    {
      "cell_type": "markdown",
      "source": [
        "10. #What is the difference between `map()`, `reduce()`, and `filter()` functions in Python?\n",
        "\n",
        "    A.map ()Applies a function to every item in an iterable (like a list) and returns a new iterable (map object).\n",
        "\n",
        "    reduce()Applies a rolling computation to sequential pairs of values in an iterable, reducing it to a single value. It is not a built-in function in Python 3, so it must be imported from the functools module.\n",
        "\n",
        "    filter()Filters items from an iterable based on a function that returns True or False, returning a new iterable containing only the items for which the function returned True.\n",
        "\n"
      ],
      "metadata": {
        "id": "rDQe_1bU2QCL"
      }
    },
    {
      "cell_type": "code",
      "source": [],
      "metadata": {
        "id": "B3dZ0pWZ19M6"
      },
      "execution_count": null,
      "outputs": []
    },
    {
      "cell_type": "markdown",
      "source": [
        "11. #Using pen & Paper write the internal mechanism for sum operation using  reduce function on this given\n",
        "list:[47,11,42,13];"
      ],
      "metadata": {
        "id": "wGU4j-nS3DwZ"
      }
    },
    {
      "cell_type": "code",
      "source": [
        "# 1.Write a Python function that takes a list of numbers as input and returns\n",
        "the sum of all even numbers in the list\n",
        "lst = [1, 2, 3, 4, 5]\n",
        "sum(item for item in lst if item % 2 == 0)"
      ],
      "metadata": {
        "colab": {
          "base_uri": "https://localhost:8080/"
        },
        "id": "qABS9vTTaOyF",
        "outputId": "81f3eb85-81fb-4740-8c3a-0b1aa322d1a4"
      },
      "execution_count": null,
      "outputs": [
        {
          "output_type": "execute_result",
          "data": {
            "text/plain": [
              "6"
            ]
          },
          "metadata": {},
          "execution_count": 18
        }
      ]
    },
    {
      "cell_type": "code",
      "source": [
        "#2.Create a Python function that accepts a string and returns the reverse of that string.\n",
        "def my_function(x):\n",
        "  return x[::-1]\n",
        "mytxt = my_function(\"pwskills\")\n",
        "print(mytxt)"
      ],
      "metadata": {
        "colab": {
          "base_uri": "https://localhost:8080/"
        },
        "id": "CdFRn5XCb4hN",
        "outputId": "ca063ac8-3d9a-431d-e177-5249f92f75fc"
      },
      "execution_count": null,
      "outputs": [
        {
          "output_type": "stream",
          "name": "stdout",
          "text": [
            "sllikswp\n"
          ]
        }
      ]
    },
    {
      "cell_type": "code",
      "source": [
        "#3.Implement a Python function that takes a list of integers and returns a new list containing the squares of each number.\n",
        "l = [1, 2, 3, 4]\n",
        "[i**2 for i in l]"
      ],
      "metadata": {
        "colab": {
          "base_uri": "https://localhost:8080/"
        },
        "id": "QxefxZ4xjltV",
        "outputId": "4a581c6d-e6e3-44f0-ba0f-cda7d052f0ad"
      },
      "execution_count": null,
      "outputs": [
        {
          "output_type": "execute_result",
          "data": {
            "text/plain": [
              "[1, 4, 9, 16]"
            ]
          },
          "metadata": {},
          "execution_count": 21
        }
      ]
    },
    {
      "cell_type": "code",
      "source": [
        "#4.Write a Python function that checks if a given number is prime or not from 1 to 200.\n",
        "a = range(1, 201)\n",
        "b = filter(lambda c: all(c % i != 0 for i in range(2, int(c**0.5) + 1)),a)\n",
        "print(list(b))\n",
        "print(\"ok\")"
      ],
      "metadata": {
        "id": "p_mU8CdzpoWP",
        "colab": {
          "base_uri": "https://localhost:8080/"
        },
        "outputId": "c288f71a-d57c-41e1-9d5a-e278da387097"
      },
      "execution_count": 3,
      "outputs": [
        {
          "output_type": "stream",
          "name": "stdout",
          "text": [
            "[1, 2, 3, 5, 7, 11, 13, 17, 19, 23, 29, 31, 37, 41, 43, 47, 53, 59, 61, 67, 71, 73, 79, 83, 89, 97, 101, 103, 107, 109, 113, 127, 131, 137, 139, 149, 151, 157, 163, 167, 173, 179, 181, 191, 193, 197, 199]\n",
            "ok\n"
          ]
        }
      ]
    },
    {
      "cell_type": "code",
      "source": [
        "#5.Create an iterator class in Python that generates the Fibonacci sequence up to a specified number of terms.\n",
        "\n",
        "class FibonacciIterator:\n",
        "  def __init__(self, n):\n",
        "    self.n = n\n",
        "    self.a, self.b = 0, 1\n",
        "\n",
        "  def __iter__(self):\n",
        "    return self\n",
        "\n",
        "  def __next__(self):\n",
        "    if self.n <= 0:\n",
        "      raise StopIteration\n",
        "    current = self.a\n",
        "    self.a, self.b = self.b, self.a + self.b\n",
        "    self.n -= 1\n",
        "    return current\n",
        "\n",
        "fibonacci_sequence = FibonacciIterator(10)\n",
        "for num in fibonacci_sequence:\n",
        "  print(num)"
      ],
      "metadata": {
        "colab": {
          "base_uri": "https://localhost:8080/"
        },
        "id": "xRvQSXVVNpEs",
        "outputId": "e3098c2e-54be-40bf-9d4e-0fcc0376da99"
      },
      "execution_count": 6,
      "outputs": [
        {
          "output_type": "stream",
          "name": "stdout",
          "text": [
            "0\n",
            "1\n",
            "1\n",
            "2\n",
            "3\n",
            "5\n",
            "8\n",
            "13\n",
            "21\n",
            "34\n"
          ]
        }
      ]
    },
    {
      "cell_type": "code",
      "source": [
        "#6.Write a generator function in Python that yields the powers of 2 up to a given exponent.\n",
        "\n",
        "def powers_of_2_yield(n):\n",
        "  for i in range(n + 1):\n",
        "    yield 2 ** i\n",
        "\n",
        "for power in powers_of_2_yield(5):\n",
        "  print(power)"
      ],
      "metadata": {
        "colab": {
          "base_uri": "https://localhost:8080/"
        },
        "id": "SAHDrfA3Ow8-",
        "outputId": "1e7f9429-3c5a-4ed1-a214-ee04caeab9ef"
      },
      "execution_count": 7,
      "outputs": [
        {
          "output_type": "stream",
          "name": "stdout",
          "text": [
            "1\n",
            "2\n",
            "4\n",
            "8\n",
            "16\n",
            "32\n"
          ]
        }
      ]
    },
    {
      "cell_type": "code",
      "source": [
        "#7.Implement a generator function that reads a file line by line and yields each line as a string.\n",
        "file_content = [\n",
        "    \"Hello, this is the first line.\",\n",
        "    \"This is the second line.\",\n",
        "    \"And this is the third line.\",\n",
        "    \"This is the fourth line.\",\n",
        "\n",
        "]\n",
        "\n",
        "def read_file_line_by_line(content):\n",
        "  for line in content:\n",
        "    yield line.strip()\n",
        "\n",
        "for line in read_file_line_by_line(file_content):\n",
        "  print(line)"
      ],
      "metadata": {
        "colab": {
          "base_uri": "https://localhost:8080/"
        },
        "id": "Wzq_3crVPP_m",
        "outputId": "45a61163-52c5-4d61-9aeb-185079b419ee"
      },
      "execution_count": 8,
      "outputs": [
        {
          "output_type": "stream",
          "name": "stdout",
          "text": [
            "Hello, this is the first line.\n",
            "This is the second line.\n",
            "And this is the third line.\n",
            "This is the fourth line.\n"
          ]
        }
      ]
    },
    {
      "cell_type": "code",
      "source": [
        "#8.Use a lambda function in Python to sort a list of tuples based on the second element of each tuple.\n",
        "tuples_list = [(1, 3), (2, 1), (3, 2), (4, 4)]\n",
        "sorted_list = sorted(tuples_list, key=lambda x: x[1])\n",
        "print(sorted_list)"
      ],
      "metadata": {
        "colab": {
          "base_uri": "https://localhost:8080/"
        },
        "id": "BTgX-KFXPkJJ",
        "outputId": "57d52257-ab87-4b78-e85c-0e9e0060e00e"
      },
      "execution_count": 9,
      "outputs": [
        {
          "output_type": "stream",
          "name": "stdout",
          "text": [
            "[(2, 1), (3, 2), (1, 3), (4, 4)]\n"
          ]
        }
      ]
    },
    {
      "cell_type": "code",
      "source": [
        "#9.Write a Python program that uses `map()` to convert a list of temperatures from Celsius to Fahrenheit.\n",
        "celsius_temperatures = [20,40,22,25]\n",
        "def celsius_to_fahrenheit(celsius):\n",
        "  return (celsius * 9/5) + 32\n",
        "fahrenheit_temperatures = list(map(celsius_to_fahrenheit, celsius_temperatures))\n",
        "\n",
        "print(fahrenheit_temperatures)"
      ],
      "metadata": {
        "colab": {
          "base_uri": "https://localhost:8080/"
        },
        "id": "XYfFLLbTPrnv",
        "outputId": "804bab0d-6abe-4963-d9c9-0c256cca7fe9"
      },
      "execution_count": 10,
      "outputs": [
        {
          "output_type": "stream",
          "name": "stdout",
          "text": [
            "[68.0, 104.0, 71.6, 77.0]\n"
          ]
        }
      ]
    },
    {
      "cell_type": "code",
      "source": [
        "#10.Create a Python program that uses `filter()` to remove all the vowels from a given string.\n",
        "def is_not_vowel(char):\n",
        "    return char.lower() not in 'aeiou'\n",
        "input_string = \"Hello, World!\"\n",
        "filtered_string = ''.join(filter(is_not_vowel, input_string))\n",
        "\n",
        "print(filtered_string)"
      ],
      "metadata": {
        "colab": {
          "base_uri": "https://localhost:8080/"
        },
        "id": "fRsbMFPmP2qy",
        "outputId": "0ac5c9e6-9408-40f1-ef9c-fab622b6d975"
      },
      "execution_count": 11,
      "outputs": [
        {
          "output_type": "stream",
          "name": "stdout",
          "text": [
            "Hll, Wrld!\n"
          ]
        }
      ]
    },
    {
      "cell_type": "code",
      "source": [
        "\"\"\"11.Imagine an accounting routine used in a book shop. It works on a list with sublists, which look like this:\n",
        "Write a Python program, which returns a list with 2-tuples. Each tuple consists of the order number and the\n",
        "product of the price per item and the quantity. The product should be increased by 10,- € if the value of the\n",
        "order is smaller than 100,00 €.\n",
        "Write a Python program using lambda and map.\"\"\"\n",
        "orders = [\n",
        "    [201, 4,40.00],\n",
        "    [302, 5, 56.80],\n",
        "    [402, 3, 32.95],\n",
        "    [502, 3, 24.99],\n",
        "\n",
        "]\n",
        "def calculate_order(order):\n",
        "    order_number, price_per_item, quantity = order\n",
        "    total_price = price_per_item * quantity\n",
        "    if total_price < 100:\n",
        "        total_price += 10\n",
        "    return (order_number, total_price)\n",
        "result = list(map(lambda order: calculate_order(order), orders))\n",
        "\n",
        "print(result)"
      ],
      "metadata": {
        "colab": {
          "base_uri": "https://localhost:8080/"
        },
        "id": "HjjYzahKQF9X",
        "outputId": "a5ab8218-3099-434f-847d-c22742ee45c0"
      },
      "execution_count": 13,
      "outputs": [
        {
          "output_type": "stream",
          "name": "stdout",
          "text": [
            "[(201, 160.0), (302, 284.0), (402, 108.85000000000001), (502, 84.97)]\n"
          ]
        }
      ]
    },
    {
      "cell_type": "code",
      "source": [],
      "metadata": {
        "id": "PXbbgG5MQt9q"
      },
      "execution_count": null,
      "outputs": []
    }
  ]
}